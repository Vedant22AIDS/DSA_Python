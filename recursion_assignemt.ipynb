{
 "cells": [
  {
   "cell_type": "code",
   "execution_count": 9,
   "id": "eae193ff-5c42-4bd4-8950-e02b142ac280",
   "metadata": {},
   "outputs": [
    {
     "name": "stdout",
     "output_type": "stream",
     "text": [
      "5\n"
     ]
    }
   ],
   "source": [
    "#Que3  Print the max value of the array [ 13, 1, -3, 22, 5].\n",
    "\n",
    "def maxValue(arr,size):\n",
    "     if size==1:\n",
    "        return 1\n",
    "     else:\n",
    "            return 1+maxValue(arr,size-1)\n",
    "\n",
    "l=[13,1,-3,22,5]\n",
    "print(maxValue(l,len(l)))"
   ]
  },
  {
   "cell_type": "code",
   "execution_count": 6,
   "id": "8166ab71-1a73-4485-9c5f-9116957faaee",
   "metadata": {},
   "outputs": [
    {
     "name": "stdout",
     "output_type": "stream",
     "text": [
      "The sum of the array is: 120\n"
     ]
    }
   ],
   "source": [
    "#Que4  Find the sum of the values of the array [92, 23, 15, -20, 10].\n",
    "def array_sum_recursive(arr):\n",
    "    if not arr:\n",
    "        return 0\n",
    "    else:\n",
    "        return arr[0] + array_sum_recursive(arr[1:])\n",
    "\n",
    "my_array = [92, 23, 15, -20, 10]\n",
    "result = array_sum_recursive(my_array)\n",
    "print(f\"The sum of the array is: {result}\")\n",
    "\n"
   ]
  },
  {
   "cell_type": "code",
   "execution_count": 8,
   "id": "8f2566bd-1452-42dd-99f5-82e74773a91d",
   "metadata": {},
   "outputs": [
    {
     "name": "stdout",
     "output_type": "stream",
     "text": [
      "153 is an Armstrong number.\n"
     ]
    }
   ],
   "source": [
    "#Q.5 Given a number n. Print if it is an armstrong number or not.An armstrong number is a number if the sum\n",
    "#of every digit in that number raised to the power of total digits in that number is equal to the number.\n",
    "#Example : 153 = 1^3 + 5^3 + 3^3 = 1 + 125 + 27 = 153 hence 153 is an armstrong number. (Easy)\n",
    "\n",
    "def count_digits(n):\n",
    "    if n == 0:\n",
    "        return 0\n",
    "    else:\n",
    "        return 1 + count_digits(n // 10)\n",
    "\n",
    "def is_armstrong_recursive(n, original_n, power):\n",
    "    if n == 0:\n",
    "        return 0\n",
    "    else:\n",
    "        digit = n % 10\n",
    "        return (digit ** power) + is_armstrong_recursive(n // 10, original_n, power)\n",
    "\n",
    "def is_armstrong_number(n):\n",
    "    power = count_digits(n)\n",
    "    result = is_armstrong_recursive(n, n, power)\n",
    "    return result == n\n",
    "\n",
    "number = 153\n",
    "if is_armstrong_number(number):\n",
    "    print(f\"{number} is an Armstrong number.\")\n",
    "else:\n",
    "    print(f\"{number} is not an Armstrong number.\")\n"
   ]
  },
  {
   "cell_type": "code",
   "execution_count": 10,
   "id": "17e8fdef-aded-4c44-a57b-d5159d1cabed",
   "metadata": {},
   "outputs": [
    {
     "name": "stdout",
     "output_type": "stream",
     "text": [
      "Example 1: 3 operations needed to convert 'horse' to 'ros'.\n",
      "Example 2: 5 operations needed to convert 'intention' to 'execution'.\n"
     ]
    }
   ],
   "source": [
    "#Que2\n",
    "def min_operations(word1, word2):\n",
    "    m, n = len(word1), len(word2)\n",
    "\n",
    "    dp = [[0] * (n + 1) for _ in range(m + 1)]\n",
    "\n",
    "    for i in range(m + 1):\n",
    "        dp[i][0] = i\n",
    "    for j in range(n + 1):\n",
    "        dp[0][j] = j\n",
    "\n",
    "    for i in range(1, m + 1):\n",
    "        for j in range(1, n + 1):\n",
    "            if word1[i - 1] == word2[j - 1]:\n",
    "                dp[i][j] = dp[i - 1][j - 1]\n",
    "            else:\n",
    "                dp[i][j] = 1 + min(dp[i - 1][j], dp[i][j - 1], dp[i - 1][j - 1])\n",
    "\n",
    "\n",
    "    return dp[m][n]\n",
    "\n",
    "\n",
    "word1_example1, word2_example1 = \"horse\", \"ros\"\n",
    "word1_example2, word2_example2 = \"intention\", \"execution\"\n",
    "\n",
    "result_example1 = min_operations(word1_example1, word2_example1)\n",
    "result_example2 = min_operations(word1_example2, word2_example2)\n",
    "\n",
    "print(f\"Example 1: {result_example1} operations needed to convert '{word1_example1}' to '{word2_example1}'.\")\n",
    "print(f\"Example 2: {result_example2} operations needed to convert '{word1_example2}' to '{word2_example2}'.\")\n"
   ]
  },
  {
   "cell_type": "code",
   "execution_count": null,
   "id": "79f11dda-8ef9-48f9-b894-61a384912c93",
   "metadata": {},
   "outputs": [],
   "source": []
  }
 ],
 "metadata": {
  "kernelspec": {
   "display_name": "Python 3 (ipykernel)",
   "language": "python",
   "name": "python3"
  },
  "language_info": {
   "codemirror_mode": {
    "name": "ipython",
    "version": 3
   },
   "file_extension": ".py",
   "mimetype": "text/x-python",
   "name": "python",
   "nbconvert_exporter": "python",
   "pygments_lexer": "ipython3",
   "version": "3.10.8"
  }
 },
 "nbformat": 4,
 "nbformat_minor": 5
}
