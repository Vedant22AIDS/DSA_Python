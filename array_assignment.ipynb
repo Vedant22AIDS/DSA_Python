{
 "cells": [
  {
   "cell_type": "code",
   "execution_count": 1,
   "id": "5643a001-6097-489e-8156-97c8be3b2004",
   "metadata": {},
   "outputs": [
    {
     "name": "stdout",
     "output_type": "stream",
     "text": [
      "True\n"
     ]
    }
   ],
   "source": [
    "'''\n",
    "1.Given an array, check if it contains any duplicates or not.\n",
    " arr = [1, 2, 4, 2, 5, 9]\n",
    " Output = True\n",
    "'''\n",
    "def check_duplicate(arr):\n",
    "    for i in range(len(arr)):\n",
    "        for j in range(i+1,len(arr)):\n",
    "            if arr[i]==arr[j]:\n",
    "                return True\n",
    "    return -1\n",
    "arr=[1,2,4,2,5,9]\n",
    "print(check_duplicate(arr))\n"
   ]
  },
  {
   "cell_type": "code",
   "execution_count": 14,
   "id": "70b2c71f-b09c-4644-9c81-f1fd2ecee089",
   "metadata": {},
   "outputs": [
    {
     "name": "stdout",
     "output_type": "stream",
     "text": [
      "3\n",
      "[5, 6, 7, 1, 2, 3, 4]\n"
     ]
    }
   ],
   "source": [
    "'''\n",
    "2. Given an array and an integer k, rotate the array to the right by k steps.\n",
    "arr = [1, 2, 3, 4, 5, 6, 7] k = 3\n",
    "Output = [5, 6, 7, 1, 2, 3, 4]\n",
    "'''\n",
    "def rotate_array(arr, k):\n",
    "\n",
    "   \n",
    "    rotated_arr = arr[-k:] + arr[:-k]    \n",
    "    return rotated_arr\n",
    "\n",
    "arr = [1, 2, 3, 4, 5, 6, 7]\n",
    "k = 3\n",
    "result = rotate_array(arr, k)\n",
    "print(result)\n"
   ]
  },
  {
   "cell_type": "code",
   "execution_count": 5,
   "id": "7848bf2b-c979-4dea-a4e0-60168bdbd075",
   "metadata": {},
   "outputs": [
    {
     "name": "stdout",
     "output_type": "stream",
     "text": [
      "[12, 9, 7, 5, 4, 2]\n"
     ]
    }
   ],
   "source": [
    "'''\n",
    "3. Reverse the given array in-place, means without using any extra data structure. \n",
    "arr = [2, 4, 5, 7, 9, 12] \n",
    "Output = [12, 9, 7, 5, 4, 2]\n",
    "'''\n",
    "def reverse_arr(arr):\n",
    "    n=len(arr)\n",
    "    start=0\n",
    "    end=n-1\n",
    "    while start<=end:\n",
    "        temp=arr[start]\n",
    "        arr[start]=arr[end]\n",
    "        arr[end]=temp\n",
    "        start=start+1\n",
    "        end=end-1\n",
    "    return arr\n",
    "arr = [2, 4, 5, 7, 9, 12]\n",
    "print(reverse_arr(arr))"
   ]
  },
  {
   "cell_type": "code",
   "execution_count": 6,
   "id": "c4b6af2f-a287-457f-99f2-b8c8cef34dd7",
   "metadata": {},
   "outputs": [
    {
     "name": "stdout",
     "output_type": "stream",
     "text": [
      "20\n"
     ]
    }
   ],
   "source": [
    "'''\n",
    "4. Given an array of integers, find the maximum element in an array\n",
    " arr = [10, 5, 20, 8, 15]\n",
    " Output = 20\n",
    "'''\n",
    "def find_max(arr):\n",
    "    maximum=0\n",
    "    for i in range(len(arr)):\n",
    "        if arr[i]>arr[maximum]:\n",
    "            maximum=i\n",
    "    return arr[maximum]\n",
    "arr=[10,5,20,8,15]\n",
    "print(find_max(arr))"
   ]
  },
  {
   "cell_type": "code",
   "execution_count": 11,
   "id": "e0565f6b-4c5b-4e85-9b70-1ecec4115b4b",
   "metadata": {},
   "outputs": [
    {
     "name": "stdout",
     "output_type": "stream",
     "text": [
      "[1, 2, 3, 4, 5]\n"
     ]
    }
   ],
   "source": [
    "'''\n",
    "5. Given a sorted array, remove the duplicate element without using any extra data structure. \n",
    "arr = [1, 1, 2, 2, 2, 3, 3, 4, 4, 4, 5, 5] \n",
    "Output = [1, 2, 3, 4, 5]\n",
    "'''\n",
    "def remove_duplicates(arr):\n",
    "    i = 0\n",
    "    while i < len(arr):\n",
    "        j = i + 1\n",
    "        while j < len(arr):\n",
    "            if arr[i] == arr[j]:\n",
    "                del arr[j]\n",
    "            else:\n",
    "                j += 1\n",
    "        i += 1\n",
    "    return arr\n",
    "\n",
    "arr = [1, 1, 2, 2, 2, 3, 3, 4, 4, 4, 5, 5]\n",
    "print(remove_duplicates(arr))\n"
   ]
  },
  {
   "cell_type": "code",
   "execution_count": null,
   "id": "d3a1e1dc-60ea-432f-ae14-8ace28f694cc",
   "metadata": {},
   "outputs": [],
   "source": []
  }
 ],
 "metadata": {
  "kernelspec": {
   "display_name": "Python 3 (ipykernel)",
   "language": "python",
   "name": "python3"
  },
  "language_info": {
   "codemirror_mode": {
    "name": "ipython",
    "version": 3
   },
   "file_extension": ".py",
   "mimetype": "text/x-python",
   "name": "python",
   "nbconvert_exporter": "python",
   "pygments_lexer": "ipython3",
   "version": "3.11.5"
  }
 },
 "nbformat": 4,
 "nbformat_minor": 5
}
